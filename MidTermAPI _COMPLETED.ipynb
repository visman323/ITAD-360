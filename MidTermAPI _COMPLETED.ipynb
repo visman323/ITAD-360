{
 "cells": [
  {
   "cell_type": "code",
   "execution_count": 5,
   "id": "e8731ee5",
   "metadata": {},
   "outputs": [
    {
     "name": "stdout",
     "output_type": "stream",
     "text": [
      "{\"document\":{\"_id\":\"646d774d70593bf9428eeeb7\",\"recrd\":\"New Ship Wreck Record\",\"latdec\":500,\"londec\":500}}\n",
      "<Response [200]>\n"
     ]
    }
   ],
   "source": [
    "#Find Record Example\n",
    "import requests\n",
    "import json\n",
    "url = \"https://data.mongodb-api.com/app/data-mavhj/endpoint/data/v1/action/findOne\"\n",
    "payload = json.dumps({\n",
    "    \"collection\": \"shipwrecks\",\n",
    "    \"database\": \"sample_geospatial\",\n",
    "    \"dataSource\": \"ServerlessInstance0\",\n",
    "    \"filter\": {\"recrd\": \"New Ship Wreck Record\" }\n",
    "})\n",
    "headers = {\n",
    "  'Content-Type': 'application/json',\n",
    "  'Access-Control-Request-Headers': '*',\n",
    "  'api-key': 'kQ8GUFCMl0zw1BJrBWYtZjz6Ioxd6Ye1Q2ao5kQ0RFAbNg4EG2AIkqdZVbS9kUFE',\n",
    "}\n",
    "response = requests.request(\"POST\", url, headers=headers, data=payload)\n",
    "print(response.text)\n",
    "print(response)"
   ]
  },
  {
   "cell_type": "code",
   "execution_count": 4,
   "id": "d1ce09e7",
   "metadata": {},
   "outputs": [
    {
     "name": "stdout",
     "output_type": "stream",
     "text": [
      "{\"insertedId\":\"663d100aa60aa928ce36889d\"}\n",
      "<Response [201]>\n"
     ]
    }
   ],
   "source": [
    "#Insert Example\n",
    "import requests\n",
    "import json\n",
    "url = \"https://data.mongodb-api.com/app/data-mavhj/endpoint/data/v1/action/insertOne\"\n",
    "payload = json.dumps({\n",
    "    \"collection\": \"shipwrecks\",\n",
    "    \"database\": \"sample_geospatial\",\n",
    "    \"dataSource\": \"ServerlessInstance0\",\n",
    "    \"document\": {\n",
    "        \"recrd\": \"New Ship Wreck Record\",\n",
    "        \"latdec\":500,\n",
    "        \"londec\":500\n",
    "    }\n",
    "})\n",
    "headers = {\n",
    "  'Content-Type': 'application/json',\n",
    "  'Access-Control-Request-Headers': '*',\n",
    "  'api-key': 'kQ8GUFCMl0zw1BJrBWYtZjz6Ioxd6Ye1Q2ao5kQ0RFAbNg4EG2AIkqdZVbS9kUFE',\n",
    "}\n",
    "response = requests.request(\"POST\", url, headers=headers, data=payload)\n",
    "print(response.text)\n",
    "print(response)"
   ]
  },
  {
   "cell_type": "code",
   "execution_count": 7,
   "id": "a5f5fbfd",
   "metadata": {},
   "outputs": [
    {
     "name": "stdout",
     "output_type": "stream",
     "text": [
      "{\"deletedCount\":1}\n",
      "<Response [200]>\n"
     ]
    }
   ],
   "source": [
    "#Delete Example\n",
    "import requests\n",
    "import json\n",
    "url = \"https://data.mongodb-api.com/app/data-mavhj/endpoint/data/v1/action/deleteOne\"\n",
    "payload = json.dumps({\n",
    "    \"collection\": \"shipwrecks\",\n",
    "    \"database\": \"sample_geospatial\",\n",
    "    \"dataSource\": \"ServerlessInstance0\",\n",
    "    \"filter\": {\"recrd\": \"New Ship Wreck Record\"\n",
    "    }\n",
    "})\n",
    "headers = {\n",
    "  'Content-Type': 'application/json',\n",
    "  'Access-Control-Request-Headers': '*',\n",
    "  'api-key': 'kQ8GUFCMl0zw1BJrBWYtZjz6Ioxd6Ye1Q2ao5kQ0RFAbNg4EG2AIkqdZVbS9kUFE',\n",
    "}\n",
    "response = requests.request(\"POST\", url, headers=headers, data=payload)\n",
    "print(response.text)\n",
    "print(response)"
   ]
  },
  {
   "cell_type": "code",
   "execution_count": 9,
   "id": "8d607688",
   "metadata": {},
   "outputs": [
    {
     "name": "stdout",
     "output_type": "stream",
     "text": [
      "{\"insertedId\":\"663d109c1362235973f72745\"}\n",
      "<Response [201]>\n"
     ]
    }
   ],
   "source": [
    "#25 Points\n",
    "#Please write a program that inserts a record with the following:\n",
    "#recrd = \"New Ship Wreck Found in Peugeot Sound\"\n",
    "#latdec = 800\n",
    "#londec = 900\n",
    "\n",
    "#Comments\n",
    "# This section adds a new shipwreck record\n",
    "# Updated the record name to \"New Ship Wreck Record found in Puget Sound\", \n",
    "# latdec to 800, and londec to 900 sections of the code. \n",
    "\n",
    "import requests\n",
    "import json\n",
    "url = \"https://data.mongodb-api.com/app/data-mavhj/endpoint/data/v1/action/insertOne\"\n",
    "payload = json.dumps({\n",
    "    \"collection\": \"shipwrecks\",\n",
    "    \"database\": \"sample_geospatial\",\n",
    "    \"dataSource\": \"ServerlessInstance0\",\n",
    "    \"document\": {\n",
    "        \"recrd\": \"New Ship Wreck Record found in Puget Sound\",\n",
    "        \"latdec\":800,\n",
    "        \"londec\":900\n",
    "    }\n",
    "})\n",
    "headers = {\n",
    "  'Content-Type': 'application/json',\n",
    "  'Access-Control-Request-Headers': '*',\n",
    "  'api-key': 'kQ8GUFCMl0zw1BJrBWYtZjz6Ioxd6Ye1Q2ao5kQ0RFAbNg4EG2AIkqdZVbS9kUFE',\n",
    "}\n",
    "response = requests.request(\"POST\", url, headers=headers, data=payload)\n",
    "print(response.text)\n",
    "print(response)"
   ]
  },
  {
   "cell_type": "code",
   "execution_count": 10,
   "id": "6b048e82",
   "metadata": {},
   "outputs": [
    {
     "name": "stdout",
     "output_type": "stream",
     "text": [
      "{\"document\":{\"_id\":\"663d109c1362235973f72745\",\"recrd\":\"New Ship Wreck Record found in Puget Sound\",\"latdec\":800,\"londec\":900}}\n",
      "<Response [200]>\n"
     ]
    }
   ],
   "source": [
    "#25 Points\n",
    "#Please write a program that finds the record you just inserted\n",
    "\n",
    "# Comments\n",
    "# This code will find the inserted record above\n",
    "# This entails by updating the filter part of the code.\n",
    "# Filter changed to \"New Ship Wreck Record found in Puget Sound\" \n",
    "\n",
    "import requests\n",
    "import json\n",
    "url = \"https://data.mongodb-api.com/app/data-mavhj/endpoint/data/v1/action/findOne\"\n",
    "payload = json.dumps({\n",
    "    \"collection\": \"shipwrecks\",\n",
    "    \"database\": \"sample_geospatial\",\n",
    "    \"dataSource\": \"ServerlessInstance0\",\n",
    "    \"filter\": {\"recrd\": \"New Ship Wreck Record found in Puget Sound\" }\n",
    "})\n",
    "headers = {\n",
    "  'Content-Type': 'application/json',\n",
    "  'Access-Control-Request-Headers': '*',\n",
    "  'api-key': 'kQ8GUFCMl0zw1BJrBWYtZjz6Ioxd6Ye1Q2ao5kQ0RFAbNg4EG2AIkqdZVbS9kUFE',\n",
    "}\n",
    "response = requests.request(\"POST\", url, headers=headers, data=payload)\n",
    "print(response.text)\n",
    "print(response)"
   ]
  },
  {
   "cell_type": "code",
   "execution_count": 11,
   "id": "399a85bd",
   "metadata": {},
   "outputs": [
    {
     "name": "stdout",
     "output_type": "stream",
     "text": [
      "{\"deletedCount\":1}\n",
      "<Response [200]>\n"
     ]
    }
   ],
   "source": [
    "#25 Points\n",
    "#Please write a program that deletes the record you just inserted\n",
    "\n",
    "# this code removes the inserted record above\n",
    "# changed the fillter to \"New Ship Wreck Record found in Puget Sound\"\n",
    "\n",
    "import requests\n",
    "import json\n",
    "url = \"https://data.mongodb-api.com/app/data-mavhj/endpoint/data/v1/action/deleteOne\"\n",
    "payload = json.dumps({\n",
    "    \"collection\": \"shipwrecks\",\n",
    "    \"database\": \"sample_geospatial\",\n",
    "    \"dataSource\": \"ServerlessInstance0\",\n",
    "    \"filter\": {\"recrd\": \"New Ship Wreck Record found in Puget Sound\"\n",
    "    }\n",
    "})\n",
    "headers = {\n",
    "  'Content-Type': 'application/json',\n",
    "  'Access-Control-Request-Headers': '*',\n",
    "  'api-key': 'kQ8GUFCMl0zw1BJrBWYtZjz6Ioxd6Ye1Q2ao5kQ0RFAbNg4EG2AIkqdZVbS9kUFE',\n",
    "}\n",
    "response = requests.request(\"POST\", url, headers=headers, data=payload)\n",
    "print(response.text)\n",
    "print(response)"
   ]
  },
  {
   "cell_type": "code",
   "execution_count": 25,
   "id": "b5a0422a",
   "metadata": {},
   "outputs": [
    {
     "name": "stdout",
     "output_type": "stream",
     "text": [
      "{\"documents\":[{\"_id\":\"646d7931ed2037cfaa71ab4c\",\"recrd\":\"New Ship Wreck Record\",\"latdec\":1000,\"londec\":1200},{\"_id\":\"646d7952d0257820a0b5e433\",\"recrd\":\"New Ship Wreck Record\",\"latdec\":1000,\"londec\":1200},{\"_id\":\"646fde7a4230e092a95039a5\",\"recrd\":\"New Ship Wreck Record\"},{\"_id\":\"647d29ed3b2726462f9dca83\",\"recrd\":\"New Ship Wreck Record\",\"latdec\":500,\"londec\":500},{\"_id\":\"64800ded52bd4d983cd2f8a9\",\"recrd\":\"New Ship Wreck Record\",\"latdec\":500,\"londec\":500},{\"_id\":\"64882df497511f1b1f588194\",\"recrd\":\"New Ship Wreck Record\",\"latdec\":1000,\"londec\":1200},{\"_id\":\"648d37a4cf0ab296efa1e4ec\",\"recrd\":\"New Ship Wreck Record\"},{\"_id\":\"648d37f4b2552c9aa93ccec9\",\"recrd\":\"New Ship Wreck Record\",\"chart\":\"blahblah\",\"watlev\":650},{\"_id\":\"648d3871cf0ab296efa2120b\",\"recrd\":\"New Ship Wreck Record\",\"chart\":\"blahblah\",\"watlev\":650},{\"_id\":\"648d38cb28832fa26a72e111\",\"recrd\":\"New Ship Wreck Record\",\"chart\":\"blahblah\",\"watlev\":650},{\"_id\":\"648d38f3cf0ab296efa22ad3\",\"recrd\":\"New Ship Wreck Record\",\"chart\":\"blahblah\",\"watlev\":650},{\"_id\":\"648d3995cd9d230130abe292\",\"recrd\":\"New Ship Wreck Record\",\"chart\":\"blahblah\",\"watlev\":650},{\"_id\":\"663ae256570d925ef7dbd02d\",\"recrd\":\"New Ship Wreck Record\",\"latdec\":500,\"londec\":500},{\"_id\":\"663ae25be32c9bd758a83efc\",\"recrd\":\"New Ship Wreck Record\",\"latdec\":500,\"londec\":500},{\"_id\":\"663ae30f15edc385a2d754d1\",\"recrd\":\"New Ship Wreck Record\",\"latdec\":500,\"londec\":500},{\"_id\":\"663ae330570d925ef7dcc910\",\"recrd\":\"New Ship Wreck Record\",\"latdec\":500,\"londec\":500},{\"_id\":\"663ae3aa8badde5f6a9916b8\",\"recrd\":\"New Ship Wreck Record\",\"latdec\":500,\"londec\":500},{\"_id\":\"663ae3d46921e7a7f597e71d\",\"recrd\":\"New Ship Wreck Record\",\"latdec\":500,\"londec\":500},{\"_id\":\"663ae3d8e32c9bd758aa14c6\",\"recrd\":\"New Ship Wreck Record\",\"latdec\":500,\"londec\":500},{\"_id\":\"663ae3de15edc385a2d8834f\",\"recrd\":\"New Ship Wreck Record\",\"latdec\":500,\"londec\":500},{\"_id\":\"663ae3e7570d925ef7ddc684\",\"recrd\":\"New Ship Wreck Record\",\"latdec\":500,\"londec\":500},{\"_id\":\"663ae3f01be69b3e50ce7c66\",\"recrd\":\"New Ship Wreck Record\",\"latdec\":500,\"londec\":500},{\"_id\":\"663ae42e8badde5f6a99cf22\",\"recrd\":\"New Ship Wreck Record\",\"latdec\":500,\"londec\":500},{\"_id\":\"663ae53ea2d5ccceed120d2b\",\"recrd\":\"New Ship Wreck Record\",\"latdec\":500,\"londec\":500},{\"_id\":\"663d100aa60aa928ce36889d\",\"recrd\":\"New Ship Wreck Record\",\"latdec\":500,\"londec\":500}]}\n",
      "<Response [200]>\n",
      "{\"documents\":[{\"_id\":\"646d7931ed2037cfaa71ab4c\",\"recrd\":\"New Ship Wreck Record\",\"latdec\":1000,\"londec\":1200},{\"_id\":\"646d7952d0257820a0b5e433\",\"recrd\":\"New Ship Wreck Record\",\"latdec\":1000,\"londec\":1200},{\"_id\":\"646fde7a4230e092a95039a5\",\"recrd\":\"New Ship Wreck Record\"},{\"_id\":\"647d29ed3b2726462f9dca83\",\"recrd\":\"New Ship Wreck Record\",\"latdec\":500,\"londec\":500},{\"_id\":\"64800ded52bd4d983cd2f8a9\",\"recrd\":\"New Ship Wreck Record\",\"latdec\":500,\"londec\":500},{\"_id\":\"64882df497511f1b1f588194\",\"recrd\":\"New Ship Wreck Record\",\"latdec\":1000,\"londec\":1200},{\"_id\":\"648d37a4cf0ab296efa1e4ec\",\"recrd\":\"New Ship Wreck Record\"},{\"_id\":\"648d37f4b2552c9aa93ccec9\",\"recrd\":\"New Ship Wreck Record\",\"chart\":\"blahblah\",\"watlev\":650},{\"_id\":\"648d3871cf0ab296efa2120b\",\"recrd\":\"New Ship Wreck Record\",\"chart\":\"blahblah\",\"watlev\":650},{\"_id\":\"648d38cb28832fa26a72e111\",\"recrd\":\"New Ship Wreck Record\",\"chart\":\"blahblah\",\"watlev\":650},{\"_id\":\"648d38f3cf0ab296efa22ad3\",\"recrd\":\"New Ship Wreck Record\",\"chart\":\"blahblah\",\"watlev\":650},{\"_id\":\"648d3995cd9d230130abe292\",\"recrd\":\"New Ship Wreck Record\",\"chart\":\"blahblah\",\"watlev\":650},{\"_id\":\"663ae256570d925ef7dbd02d\",\"recrd\":\"New Ship Wreck Record\",\"latdec\":500,\"londec\":500},{\"_id\":\"663ae25be32c9bd758a83efc\",\"recrd\":\"New Ship Wreck Record\",\"latdec\":500,\"londec\":500},{\"_id\":\"663ae30f15edc385a2d754d1\",\"recrd\":\"New Ship Wreck Record\",\"latdec\":500,\"londec\":500},{\"_id\":\"663ae330570d925ef7dcc910\",\"recrd\":\"New Ship Wreck Record\",\"latdec\":500,\"londec\":500},{\"_id\":\"663ae3aa8badde5f6a9916b8\",\"recrd\":\"New Ship Wreck Record\",\"latdec\":500,\"londec\":500},{\"_id\":\"663ae3d46921e7a7f597e71d\",\"recrd\":\"New Ship Wreck Record\",\"latdec\":500,\"londec\":500},{\"_id\":\"663ae3d8e32c9bd758aa14c6\",\"recrd\":\"New Ship Wreck Record\",\"latdec\":500,\"londec\":500},{\"_id\":\"663ae3de15edc385a2d8834f\",\"recrd\":\"New Ship Wreck Record\",\"latdec\":500,\"londec\":500},{\"_id\":\"663ae3e7570d925ef7ddc684\",\"recrd\":\"New Ship Wreck Record\",\"latdec\":500,\"londec\":500},{\"_id\":\"663ae3f01be69b3e50ce7c66\",\"recrd\":\"New Ship Wreck Record\",\"latdec\":500,\"londec\":500},{\"_id\":\"663ae42e8badde5f6a99cf22\",\"recrd\":\"New Ship Wreck Record\",\"latdec\":500,\"londec\":500},{\"_id\":\"663ae53ea2d5ccceed120d2b\",\"recrd\":\"New Ship Wreck Record\",\"latdec\":500,\"londec\":500},{\"_id\":\"663d100aa60aa928ce36889d\",\"recrd\":\"New Ship Wreck Record\",\"latdec\":500,\"londec\":500}]}\n",
      "JSON file created successfully!\n"
     ]
    }
   ],
   "source": [
    "#40 Points\n",
    "#Please write a program that finds all records in the ship wreck database\n",
    "#Then create a JSON file with the ship wreck records in the database\n",
    "#Hints\n",
    "#This is your URL\n",
    "#\"https://data.mongodb-api.com/app/data-mavhj/endpoint/data/v1/action/find\"\n",
    "#Use the assignments we did in class to create the file once\n",
    "#You retrieve the data\n",
    "\n",
    "import requests\n",
    "import json\n",
    "\n",
    "#This code will find all the shipwrecks then add all the data to a json file\n",
    "\n",
    "def findOneFunc(collection, database, datasource, fil):\n",
    "    url = \"https://data.mongodb-api.com/app/data-mavhj/endpoint/data/v1/action/find\"\n",
    "    payload = json.dumps({\n",
    "        \"collection\": collection,\n",
    "        \"database\": database,\n",
    "        \"dataSource\": datasource,\n",
    "        \"filter\": fil\n",
    "    })\n",
    "    headers = {\n",
    "        'Content-Type': 'application/json',\n",
    "        'Access-Control-Request-Headers': '*',\n",
    "        'api-key': 'kQ8GUFCMl0zw1BJrBWYtZjz6Ioxd6Ye1Q2ao5kQ0RFAbNg4EG2AIkqdZVbS9kUFE',\n",
    "    }\n",
    "    response = requests.request(\"POST\", url, headers=headers, data=payload)\n",
    "    print(response.text)\n",
    "    print(response)\n",
    "    \n",
    "    return response.text\n",
    "\n",
    "fil1 = {\"recrd\": \"New Ship Wreck Record\" }\n",
    "resp = findOneFunc(\"shipwrecks\",\"sample_geospatial\",\"ServerlessInstance0\",fil1)\n",
    "print(resp)\n",
    "\n",
    "\n",
    "shipwreck_records = json.loads(resp)\n",
    "\n",
    "# Write JSON data into a file\n",
    "with open('shipwreck_records.json', 'w') as file:\n",
    "    json.dump(shipwreck_records, file)\n",
    "\n",
    "print(\"JSON file created successfully!\")\n",
    "\n"
   ]
  },
  {
   "cell_type": "code",
   "execution_count": null,
   "id": "e4178d37",
   "metadata": {},
   "outputs": [],
   "source": []
  },
  {
   "cell_type": "code",
   "execution_count": null,
   "id": "ae249b9f",
   "metadata": {},
   "outputs": [],
   "source": []
  }
 ],
 "metadata": {
  "kernelspec": {
   "display_name": "Python 3 (ipykernel)",
   "language": "python",
   "name": "python3"
  },
  "language_info": {
   "codemirror_mode": {
    "name": "ipython",
    "version": 3
   },
   "file_extension": ".py",
   "mimetype": "text/x-python",
   "name": "python",
   "nbconvert_exporter": "python",
   "pygments_lexer": "ipython3",
   "version": "3.12.2"
  }
 },
 "nbformat": 4,
 "nbformat_minor": 5
}
